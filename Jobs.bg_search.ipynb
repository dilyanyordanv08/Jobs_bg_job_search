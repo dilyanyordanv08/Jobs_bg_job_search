{
 "cells": [
  {
   "cell_type": "code",
   "execution_count": 3965,
   "id": "1316975a",
   "metadata": {},
   "outputs": [],
   "source": [
    "import csv\n",
    "from datetime import datetime\n",
    "import requests\n",
    "from bs4 import BeautifulSoup\n",
    "import pandas as pd"
   ]
  },
  {
   "cell_type": "code",
   "execution_count": 3966,
   "id": "7b10c91d",
   "metadata": {},
   "outputs": [],
   "source": [
    "template = 'https://www.jobs.bg/front_job_search.php?subm=1&keywords%5B%5D={}'\n",
    "#template = 'https://www.jobs.bg/front_job_search.php?subm=1&categories%5B0%5D=56&keywords%5B0%5D={}'\n"
   ]
  },
  {
   "cell_type": "code",
   "execution_count": 3967,
   "id": "c2bfcdb7",
   "metadata": {},
   "outputs": [],
   "source": [
    "def get_url(position):\n",
    "    template = 'https://www.jobs.bg/front_job_search.php?subm=1&keywords%5B%5D={}'\n",
    "    #template = 'https://www.jobs.bg/front_job_search.php?subm=1&categories%5B0%5D=56&keywords%5B0%5D={}'\n",
    "    url = template.format(position)\n",
    "    return url"
   ]
  },
  {
   "cell_type": "code",
   "execution_count": 3968,
   "id": "44675e9a",
   "metadata": {},
   "outputs": [],
   "source": [
    "url = get_url(\"data analyst\")"
   ]
  },
  {
   "cell_type": "markdown",
   "id": "27ea9a72",
   "metadata": {},
   "source": [
    "# Extract raw html"
   ]
  },
  {
   "cell_type": "code",
   "execution_count": 3969,
   "id": "6e973119",
   "metadata": {},
   "outputs": [],
   "source": [
    "response = requests.get(url)"
   ]
  },
  {
   "cell_type": "code",
   "execution_count": 3970,
   "id": "00917fe1",
   "metadata": {},
   "outputs": [
    {
     "data": {
      "text/plain": [
       "<Response [200]>"
      ]
     },
     "execution_count": 3970,
     "metadata": {},
     "output_type": "execute_result"
    }
   ],
   "source": [
    "response"
   ]
  },
  {
   "cell_type": "code",
   "execution_count": 3971,
   "id": "96be2112",
   "metadata": {},
   "outputs": [
    {
     "data": {
      "text/plain": [
       "'OK'"
      ]
     },
     "execution_count": 3971,
     "metadata": {},
     "output_type": "execute_result"
    }
   ],
   "source": [
    "response.reason"
   ]
  },
  {
   "cell_type": "code",
   "execution_count": 3972,
   "id": "436eafbc",
   "metadata": {},
   "outputs": [],
   "source": [
    "soup = BeautifulSoup(response.text, 'html.parser')"
   ]
  },
  {
   "cell_type": "code",
   "execution_count": 3973,
   "id": "60e52c27",
   "metadata": {},
   "outputs": [],
   "source": [
    "cards = soup.find_all('li', {'class': [1, 2, 3, 4, 5, 6, 7, 8, 9, 10, 11, 12, 13, 14, 15, 16,17, 18, 19, 20,21, 22]})"
   ]
  },
  {
   "cell_type": "code",
   "execution_count": 3974,
   "id": "47559de8",
   "metadata": {},
   "outputs": [
    {
     "data": {
      "text/plain": [
       "20"
      ]
     },
     "execution_count": 3974,
     "metadata": {},
     "output_type": "execute_result"
    }
   ],
   "source": [
    "len(cards)"
   ]
  },
  {
   "cell_type": "markdown",
   "id": "2e32abc1",
   "metadata": {},
   "source": [
    "# Prototype the model with a single record"
   ]
  },
  {
   "cell_type": "code",
   "execution_count": 3975,
   "id": "31a0864b",
   "metadata": {},
   "outputs": [],
   "source": [
    "card = cards[0]"
   ]
  },
  {
   "cell_type": "code",
   "execution_count": 3976,
   "id": "8f9f2d4e",
   "metadata": {},
   "outputs": [],
   "source": [
    "atag = card.div.a"
   ]
  },
  {
   "cell_type": "code",
   "execution_count": 3977,
   "id": "250a8aaa",
   "metadata": {},
   "outputs": [],
   "source": [
    "job_title = atag.get('title')"
   ]
  },
  {
   "cell_type": "code",
   "execution_count": 3978,
   "id": "f0f5cf84",
   "metadata": {},
   "outputs": [],
   "source": [
    "job_url = atag.get('href')"
   ]
  },
  {
   "cell_type": "code",
   "execution_count": 3979,
   "id": "dac0645b",
   "metadata": {},
   "outputs": [],
   "source": [
    "company_name = card.find('div', {'class':'secondary-text'}).text.strip()"
   ]
  },
  {
   "cell_type": "code",
   "execution_count": 3980,
   "id": "5d2c10d0",
   "metadata": {},
   "outputs": [],
   "source": [
    "job_location = card.find('div', \"card-info card__subtitle\").text.strip()"
   ]
  },
  {
   "cell_type": "code",
   "execution_count": 3981,
   "id": "37d69f5c",
   "metadata": {},
   "outputs": [],
   "source": [
    "#card.find('div',{'class':'card-tags pt-8'})"
   ]
  },
  {
   "cell_type": "code",
   "execution_count": 3982,
   "id": "7526cd0a",
   "metadata": {},
   "outputs": [],
   "source": [
    "not_needed = r'\\n'\n",
    "if not_needed in date_posted:\n",
    "    date_posted = card.find('div','mdc-layout-grid__cell mdc-layout-grid__cell--span-12 flex').text.strip()[0:4]\n",
    "else:\n",
    "    date_posted = card.find('div','mdc-layout-grid__cell mdc-layout-grid__cell--span-12 flex').text.strip()[0:8]"
   ]
  },
  {
   "cell_type": "code",
   "execution_count": 3983,
   "id": "c1269fb3",
   "metadata": {},
   "outputs": [],
   "source": [
    "today = datetime.today().strftime('%Y-%m-%d')"
   ]
  },
  {
   "cell_type": "code",
   "execution_count": 3984,
   "id": "73b06b90",
   "metadata": {},
   "outputs": [],
   "source": [
    "try:\n",
    "    job_salary = card.find('div', 'card-info card__subtitle').text.strip()[26:49]\n",
    "except AttributeError:\n",
    "    job_salary = ''"
   ]
  },
  {
   "cell_type": "markdown",
   "id": "c6afa581",
   "metadata": {},
   "source": [
    "# Generalize the model with a function"
   ]
  },
  {
   "cell_type": "code",
   "execution_count": 3985,
   "id": "555d5cac",
   "metadata": {},
   "outputs": [
    {
     "ename": "UnboundLocalError",
     "evalue": "local variable 'date_posted' referenced before assignment",
     "output_type": "error",
     "traceback": [
      "\u001b[0;31m---------------------------------------------------------------------------\u001b[0m",
      "\u001b[0;31mUnboundLocalError\u001b[0m                         Traceback (most recent call last)",
      "Input \u001b[0;32mIn [3985]\u001b[0m, in \u001b[0;36m<cell line: 3>\u001b[0;34m()\u001b[0m\n\u001b[1;32m      1\u001b[0m records \u001b[38;5;241m=\u001b[39m []\n\u001b[1;32m      3\u001b[0m \u001b[38;5;28;01mfor\u001b[39;00m card \u001b[38;5;129;01min\u001b[39;00m cards:\n\u001b[0;32m----> 4\u001b[0m     record \u001b[38;5;241m=\u001b[39m \u001b[43mget_record\u001b[49m\u001b[43m(\u001b[49m\u001b[43mcard\u001b[49m\u001b[43m)\u001b[49m\n\u001b[1;32m      5\u001b[0m     records\u001b[38;5;241m.\u001b[39mappend(record)\n",
      "Input \u001b[0;32mIn [3857]\u001b[0m, in \u001b[0;36mget_record\u001b[0;34m(card)\u001b[0m\n\u001b[1;32m     16\u001b[0m company_name \u001b[38;5;241m=\u001b[39m card\u001b[38;5;241m.\u001b[39mfind(\u001b[38;5;124m'\u001b[39m\u001b[38;5;124mdiv\u001b[39m\u001b[38;5;124m'\u001b[39m, {\u001b[38;5;124m'\u001b[39m\u001b[38;5;124mclass\u001b[39m\u001b[38;5;124m'\u001b[39m:\u001b[38;5;124m'\u001b[39m\u001b[38;5;124msecondary-text\u001b[39m\u001b[38;5;124m'\u001b[39m})\u001b[38;5;241m.\u001b[39mtext\u001b[38;5;241m.\u001b[39mstrip()\n\u001b[1;32m     17\u001b[0m job_location \u001b[38;5;241m=\u001b[39m card\u001b[38;5;241m.\u001b[39mfind(\u001b[38;5;124m'\u001b[39m\u001b[38;5;124mdiv\u001b[39m\u001b[38;5;124m'\u001b[39m, {\u001b[38;5;124m'\u001b[39m\u001b[38;5;124mclass\u001b[39m\u001b[38;5;124m'\u001b[39m:\u001b[38;5;124m'\u001b[39m\u001b[38;5;124mcard-info card__subtitle\u001b[39m\u001b[38;5;124m'\u001b[39m})\u001b[38;5;241m.\u001b[39mtext\u001b[38;5;241m.\u001b[39mstrip()[\u001b[38;5;241m0\u001b[39m:\u001b[38;5;241m5\u001b[39m]\n\u001b[0;32m---> 18\u001b[0m \u001b[38;5;28;01mif\u001b[39;00m \u001b[43mdate_posted\u001b[49m\u001b[38;5;241m.\u001b[39mcontains(\u001b[38;5;124m'\u001b[39m\u001b[38;5;130;01m\\n\u001b[39;00m\u001b[38;5;124m'\u001b[39m):\n\u001b[1;32m     19\u001b[0m     date_posted \u001b[38;5;241m=\u001b[39m card\u001b[38;5;241m.\u001b[39mfind(\u001b[38;5;124m'\u001b[39m\u001b[38;5;124mdiv\u001b[39m\u001b[38;5;124m'\u001b[39m,\u001b[38;5;124m'\u001b[39m\u001b[38;5;124mmdc-layout-grid__cell mdc-layout-grid__cell--span-12 flex\u001b[39m\u001b[38;5;124m'\u001b[39m)\u001b[38;5;241m.\u001b[39mtext\u001b[38;5;241m.\u001b[39mstrip()[\u001b[38;5;241m0\u001b[39m:\u001b[38;5;241m4\u001b[39m]\n\u001b[1;32m     20\u001b[0m \u001b[38;5;28;01melse\u001b[39;00m:\n",
      "\u001b[0;31mUnboundLocalError\u001b[0m: local variable 'date_posted' referenced before assignment"
     ]
    }
   ],
   "source": [
    "records = []\n",
    "\n",
    "for card in cards:\n",
    "    record = get_record(card)\n",
    "    records.append(record)"
   ]
  },
  {
   "cell_type": "code",
   "execution_count": null,
   "id": "14664d9f",
   "metadata": {},
   "outputs": [],
   "source": []
  },
  {
   "cell_type": "code",
   "execution_count": null,
   "id": "4a553975",
   "metadata": {},
   "outputs": [],
   "source": [
    "records[0:19]"
   ]
  },
  {
   "cell_type": "markdown",
   "id": "37e45a0b",
   "metadata": {},
   "source": [
    "# Getting the next page"
   ]
  },
  {
   "cell_type": "code",
   "execution_count": null,
   "id": "0017dc11",
   "metadata": {},
   "outputs": [],
   "source": [
    "#soup.find('ul', 'page-2')\n",
    "\n",
    "response = requests.get(url)\n",
    "soup = BeautifulSoup(response.text, 'html.parser')\n",
    "cards = soup.find_all('li', {'class': [1, 2, 3, 4, 5, 6, 7, 8, 9, 10, 11, 12, 13, 14, 15, 16,17, 18, 19, 20]})\n",
    "\n",
    "for card in cards:\n",
    "    record = get_record(card)\n",
    "    records.append(record)"
   ]
  },
  {
   "cell_type": "code",
   "execution_count": null,
   "id": "45b6ba70",
   "metadata": {},
   "outputs": [],
   "source": [
    "with open('job_data.csv','w', newline='', encoding='utf-8') as f:\n",
    "        writer = csv.writer(f)\n",
    "        writer.writerow(['JobTitle', 'CompanyName','JobLocation','PostDate','ExtractDate','JobSalary','JobUrl'])\n",
    "        writer.writerows(records)"
   ]
  },
  {
   "cell_type": "markdown",
   "id": "7f5cb564",
   "metadata": {},
   "source": [
    "# Putting it all together"
   ]
  },
  {
   "cell_type": "markdown",
   "id": "7c7de329",
   "metadata": {},
   "source": [
    "# import csv\n",
    "from datetime import datetime\n",
    "import requests\n",
    "from bs4 import BeautifulSoup\n",
    "\n",
    "def get_url(position):\n",
    "    template = 'https://www.jobs.bg/front_job_search.php?subm=1&categories%5B0%5D=56&keywords%5B0%5D={}'\n",
    "    url = template.format(position)\n",
    "    return url\n",
    "\n",
    "def get_record(card):\n",
    "    \"\"\"Extract job data from a single record\"\"\"\n",
    "    atag = card.div.a\n",
    "    job_title = atag.get('title')\n",
    "    job_url = atag.get('href')\n",
    "    company_name = card.find('div', {'class':'secondary-text'}).text.strip()\n",
    "    job_location = card.find('div', {'class':'card-info card__subtitle'}).text.strip()[0:5]\n",
    "    if date_posted.contains('\\n'):\n",
    "        date_posted = card.find('div','mdc-layout-grid__cell mdc-layout-grid__cell--span-12 flex').text.strip()[0:4]\n",
    "    else:\n",
    "        date_posted = card.find('div','mdc-layout-grid__cell mdc-layout-grid__cell--span-12 flex').text.strip()[0:8]\n",
    "    today = datetime.today().strftime('%Y-%m-%d')\n",
    "    try:\n",
    "        job_salary = card.find('span', 'white-space: nowrap')\n",
    "    except AttributError:\n",
    "        job_salary = ''\n",
    "        \n",
    "    record = (job_title, company_name, job_location, date_posted, today, job_salary, job_url)\n",
    "    \n",
    "    return record\n",
    "\n",
    "def main(position):\n",
    "    records = []\n",
    "    url = get_url(position)\n",
    "    \n",
    "    while True:\n",
    "        response = requests.get(url)\n",
    "        soup = BeautifulSoup(response.text, 'html.parser')\n",
    "        cards = soup.find_all('li', {'class': [1, 2, 3, 4, 5, 6, 7, 8, 9, 10, 11, 12, 13, 14, 15, 16,17, 18, 19, 20]})\n",
    "\n",
    "        for card in cards:\n",
    "            record = get_record(card)\n",
    "            records.append(record)\n",
    "    # save data\n",
    "    with open('results_job_data.csv','w', newline='', encoding='utf-8') as f:\n",
    "        writer = csv.writer(f)\n",
    "        writer.writerow(['JobTitle', 'CompanyName','JobLocation','PostDate','ExtractDate','JobSalary','JobUrl'])\n",
    "        writer.writerows(records)"
   ]
  },
  {
   "cell_type": "code",
   "execution_count": null,
   "id": "b0a0791c",
   "metadata": {},
   "outputs": [],
   "source": [
    "# run main function\n",
    "#main(\"Analyst\")"
   ]
  },
  {
   "cell_type": "code",
   "execution_count": null,
   "id": "de74a52c",
   "metadata": {},
   "outputs": [],
   "source": [
    "df = pd.read_csv('job_data.csv')"
   ]
  },
  {
   "cell_type": "code",
   "execution_count": 3991,
   "id": "21c8337d",
   "metadata": {},
   "outputs": [],
   "source": [
    "df = df.loc[(df['JobLocation'] == 'София') | (df['JobLocation'] == 'wifi ')]\n",
    "#df = datetime.date_posted().strftime('%Y-%m-%d')\n",
    "#df[df['JobLocation'].str.contains('София', na=False)]\n",
    "#df = df[df['JobTitle'].str.contains('Data Analyst')]\n",
    "#df['PostDate'] = pd.to_datetime(df['PostDate'])\n"
   ]
  },
  {
   "cell_type": "code",
   "execution_count": 3988,
   "id": "d21fd003",
   "metadata": {},
   "outputs": [
    {
     "data": {
      "text/html": [
       "<div>\n",
       "<style scoped>\n",
       "    .dataframe tbody tr th:only-of-type {\n",
       "        vertical-align: middle;\n",
       "    }\n",
       "\n",
       "    .dataframe tbody tr th {\n",
       "        vertical-align: top;\n",
       "    }\n",
       "\n",
       "    .dataframe thead th {\n",
       "        text-align: right;\n",
       "    }\n",
       "</style>\n",
       "<table border=\"1\" class=\"dataframe\">\n",
       "  <thead>\n",
       "    <tr style=\"text-align: right;\">\n",
       "      <th></th>\n",
       "      <th>JobTitle</th>\n",
       "      <th>CompanyName</th>\n",
       "      <th>JobLocation</th>\n",
       "      <th>PostDate</th>\n",
       "      <th>ExtractDate</th>\n",
       "      <th>JobSalary</th>\n",
       "      <th>JobUrl</th>\n",
       "    </tr>\n",
       "  </thead>\n",
       "  <tbody>\n",
       "    <tr>\n",
       "      <th>2</th>\n",
       "      <td>Marketing Data Analyst</td>\n",
       "      <td>АктивТрейдс - клон София КЧТ</td>\n",
       "      <td>София</td>\n",
       "      <td>09.12.22</td>\n",
       "      <td>2022-12-12</td>\n",
       "      <td>NaN</td>\n",
       "      <td>https://www.jobs.bg/job/6621002</td>\n",
       "    </tr>\n",
       "    <tr>\n",
       "      <th>3</th>\n",
       "      <td>Business Data Analyst</td>\n",
       "      <td>ИНДЕВР ООД</td>\n",
       "      <td>София</td>\n",
       "      <td>09.12.22</td>\n",
       "      <td>2022-12-12</td>\n",
       "      <td>NaN</td>\n",
       "      <td>https://www.jobs.bg/job/6620726</td>\n",
       "    </tr>\n",
       "    <tr>\n",
       "      <th>4</th>\n",
       "      <td>Data Analyst</td>\n",
       "      <td>KBC Global Services BG/Shared Service Center</td>\n",
       "      <td>София</td>\n",
       "      <td>08.12.22</td>\n",
       "      <td>2022-12-12</td>\n",
       "      <td>NaN</td>\n",
       "      <td>https://www.jobs.bg/job/6619660</td>\n",
       "    </tr>\n",
       "    <tr>\n",
       "      <th>5</th>\n",
       "      <td>M&amp;A Data Analyst with Turkish language</td>\n",
       "      <td>INTERNET SECURITIES BULGARIA EOOD</td>\n",
       "      <td>София</td>\n",
       "      <td>07.12.22</td>\n",
       "      <td>2022-12-12</td>\n",
       "      <td>NaN</td>\n",
       "      <td>https://www.jobs.bg/job/6618177</td>\n",
       "    </tr>\n",
       "    <tr>\n",
       "      <th>6</th>\n",
       "      <td>Junior/Mid Data Analyst &amp; Data Engineer</td>\n",
       "      <td>Adastra Bulgaria Ltd.</td>\n",
       "      <td>wifi</td>\n",
       "      <td>07.12.22</td>\n",
       "      <td>2022-12-12</td>\n",
       "      <td>NaN</td>\n",
       "      <td>https://www.jobs.bg/job/6617074</td>\n",
       "    </tr>\n",
       "    <tr>\n",
       "      <th>8</th>\n",
       "      <td>Data Analyst (KYC and AML) - Junior and Senior...</td>\n",
       "      <td>Passcon Ltd / AML RightSource</td>\n",
       "      <td>София</td>\n",
       "      <td>29.11.22</td>\n",
       "      <td>2022-12-12</td>\n",
       "      <td>NaN</td>\n",
       "      <td>https://www.jobs.bg/job/6606582</td>\n",
       "    </tr>\n",
       "    <tr>\n",
       "      <th>9</th>\n",
       "      <td>Data Analyst</td>\n",
       "      <td>Ай Ес Джи Би Джи ЕООД</td>\n",
       "      <td>София</td>\n",
       "      <td>28.11.22</td>\n",
       "      <td>2022-12-12</td>\n",
       "      <td>NaN</td>\n",
       "      <td>https://www.jobs.bg/job/6604746</td>\n",
       "    </tr>\n",
       "    <tr>\n",
       "      <th>10</th>\n",
       "      <td>KYC Data Analyst with German</td>\n",
       "      <td>Passcon Ltd / AML RightSource</td>\n",
       "      <td>София</td>\n",
       "      <td>28.11.22</td>\n",
       "      <td>2022-12-12</td>\n",
       "      <td>NaN</td>\n",
       "      <td>https://www.jobs.bg/job/6592547</td>\n",
       "    </tr>\n",
       "    <tr>\n",
       "      <th>11</th>\n",
       "      <td>SEGA QA Data Analyst</td>\n",
       "      <td>Creative Assembly Sofia / SEGA Black Sea Ltd.</td>\n",
       "      <td>София</td>\n",
       "      <td>24.11.22</td>\n",
       "      <td>2022-12-12</td>\n",
       "      <td>NaN</td>\n",
       "      <td>https://www.jobs.bg/job/6602038</td>\n",
       "    </tr>\n",
       "    <tr>\n",
       "      <th>13</th>\n",
       "      <td>Financial Analyst (Private Equity Data Solutions)</td>\n",
       "      <td>Дъ Бърджис Груп ЕООД</td>\n",
       "      <td>София</td>\n",
       "      <td>24.11.22</td>\n",
       "      <td>2022-12-12</td>\n",
       "      <td>NaN</td>\n",
       "      <td>https://www.jobs.bg/job/6600494</td>\n",
       "    </tr>\n",
       "    <tr>\n",
       "      <th>14</th>\n",
       "      <td>Data Analyst</td>\n",
       "      <td>Modis Bulgaria EOOD</td>\n",
       "      <td>София</td>\n",
       "      <td>23.11.22</td>\n",
       "      <td>2022-12-12</td>\n",
       "      <td>NaN</td>\n",
       "      <td>https://www.jobs.bg/job/6599832</td>\n",
       "    </tr>\n",
       "    <tr>\n",
       "      <th>15</th>\n",
       "      <td>Data Operations Analyst (junior to mid)</td>\n",
       "      <td>CXG Outsourcing EOOD</td>\n",
       "      <td>wifi</td>\n",
       "      <td>23.11.22</td>\n",
       "      <td>2022-12-12</td>\n",
       "      <td>NaN</td>\n",
       "      <td>https://www.jobs.bg/job/6599650</td>\n",
       "    </tr>\n",
       "    <tr>\n",
       "      <th>16</th>\n",
       "      <td>Senior Financial Data Analyst</td>\n",
       "      <td>КПМГ ОДИТ ООД</td>\n",
       "      <td>wifi</td>\n",
       "      <td>22.11.22</td>\n",
       "      <td>2022-12-12</td>\n",
       "      <td>NaN</td>\n",
       "      <td>https://www.jobs.bg/job/6597568</td>\n",
       "    </tr>\n",
       "    <tr>\n",
       "      <th>17</th>\n",
       "      <td>Financial Analyst for Stock Market Data</td>\n",
       "      <td>3D STOCKPICKER LTD.</td>\n",
       "      <td>wifi</td>\n",
       "      <td>16.11.22</td>\n",
       "      <td>2022-12-12</td>\n",
       "      <td>NaN</td>\n",
       "      <td>https://www.jobs.bg/job/6590205</td>\n",
       "    </tr>\n",
       "    <tr>\n",
       "      <th>18</th>\n",
       "      <td>Remote/On-site Experienced Mobile QA Analyst</td>\n",
       "      <td>MentorMate Bulgaria Ltd.</td>\n",
       "      <td>София</td>\n",
       "      <td>днес\\n</td>\n",
       "      <td>2022-12-12</td>\n",
       "      <td>NaN</td>\n",
       "      <td>https://www.jobs.bg/job/6623128</td>\n",
       "    </tr>\n",
       "    <tr>\n",
       "      <th>19</th>\n",
       "      <td>Remote Experienced Mobile QA Analyst</td>\n",
       "      <td>MentorMate Bulgaria Ltd.</td>\n",
       "      <td>wifi</td>\n",
       "      <td>днес\\n</td>\n",
       "      <td>2022-12-12</td>\n",
       "      <td>NaN</td>\n",
       "      <td>https://www.jobs.bg/job/6623133</td>\n",
       "    </tr>\n",
       "    <tr>\n",
       "      <th>22</th>\n",
       "      <td>Marketing Data Analyst</td>\n",
       "      <td>АктивТрейдс - клон София КЧТ</td>\n",
       "      <td>София</td>\n",
       "      <td>09.12.22</td>\n",
       "      <td>2022-12-12</td>\n",
       "      <td>NaN</td>\n",
       "      <td>https://www.jobs.bg/job/6621002</td>\n",
       "    </tr>\n",
       "    <tr>\n",
       "      <th>23</th>\n",
       "      <td>Business Data Analyst</td>\n",
       "      <td>ИНДЕВР ООД</td>\n",
       "      <td>София</td>\n",
       "      <td>09.12.22</td>\n",
       "      <td>2022-12-12</td>\n",
       "      <td>NaN</td>\n",
       "      <td>https://www.jobs.bg/job/6620726</td>\n",
       "    </tr>\n",
       "    <tr>\n",
       "      <th>24</th>\n",
       "      <td>Data Analyst</td>\n",
       "      <td>KBC Global Services BG/Shared Service Center</td>\n",
       "      <td>София</td>\n",
       "      <td>08.12.22</td>\n",
       "      <td>2022-12-12</td>\n",
       "      <td>NaN</td>\n",
       "      <td>https://www.jobs.bg/job/6619660</td>\n",
       "    </tr>\n",
       "    <tr>\n",
       "      <th>25</th>\n",
       "      <td>M&amp;A Data Analyst with Turkish language</td>\n",
       "      <td>INTERNET SECURITIES BULGARIA EOOD</td>\n",
       "      <td>София</td>\n",
       "      <td>07.12.22</td>\n",
       "      <td>2022-12-12</td>\n",
       "      <td>NaN</td>\n",
       "      <td>https://www.jobs.bg/job/6618177</td>\n",
       "    </tr>\n",
       "    <tr>\n",
       "      <th>26</th>\n",
       "      <td>Junior/Mid Data Analyst &amp; Data Engineer</td>\n",
       "      <td>Adastra Bulgaria Ltd.</td>\n",
       "      <td>wifi</td>\n",
       "      <td>07.12.22</td>\n",
       "      <td>2022-12-12</td>\n",
       "      <td>NaN</td>\n",
       "      <td>https://www.jobs.bg/job/6617074</td>\n",
       "    </tr>\n",
       "    <tr>\n",
       "      <th>28</th>\n",
       "      <td>Data Analyst (KYC and AML) - Junior and Senior...</td>\n",
       "      <td>Passcon Ltd / AML RightSource</td>\n",
       "      <td>София</td>\n",
       "      <td>29.11.22</td>\n",
       "      <td>2022-12-12</td>\n",
       "      <td>NaN</td>\n",
       "      <td>https://www.jobs.bg/job/6606582</td>\n",
       "    </tr>\n",
       "    <tr>\n",
       "      <th>29</th>\n",
       "      <td>Data Analyst</td>\n",
       "      <td>Ай Ес Джи Би Джи ЕООД</td>\n",
       "      <td>София</td>\n",
       "      <td>28.11.22</td>\n",
       "      <td>2022-12-12</td>\n",
       "      <td>NaN</td>\n",
       "      <td>https://www.jobs.bg/job/6604746</td>\n",
       "    </tr>\n",
       "    <tr>\n",
       "      <th>30</th>\n",
       "      <td>KYC Data Analyst with German</td>\n",
       "      <td>Passcon Ltd / AML RightSource</td>\n",
       "      <td>София</td>\n",
       "      <td>28.11.22</td>\n",
       "      <td>2022-12-12</td>\n",
       "      <td>NaN</td>\n",
       "      <td>https://www.jobs.bg/job/6592547</td>\n",
       "    </tr>\n",
       "    <tr>\n",
       "      <th>31</th>\n",
       "      <td>SEGA QA Data Analyst</td>\n",
       "      <td>Creative Assembly Sofia / SEGA Black Sea Ltd.</td>\n",
       "      <td>София</td>\n",
       "      <td>24.11.22</td>\n",
       "      <td>2022-12-12</td>\n",
       "      <td>NaN</td>\n",
       "      <td>https://www.jobs.bg/job/6602038</td>\n",
       "    </tr>\n",
       "    <tr>\n",
       "      <th>33</th>\n",
       "      <td>Financial Analyst (Private Equity Data Solutions)</td>\n",
       "      <td>Дъ Бърджис Груп ЕООД</td>\n",
       "      <td>София</td>\n",
       "      <td>24.11.22</td>\n",
       "      <td>2022-12-12</td>\n",
       "      <td>NaN</td>\n",
       "      <td>https://www.jobs.bg/job/6600494</td>\n",
       "    </tr>\n",
       "    <tr>\n",
       "      <th>34</th>\n",
       "      <td>Data Analyst</td>\n",
       "      <td>Modis Bulgaria EOOD</td>\n",
       "      <td>София</td>\n",
       "      <td>23.11.22</td>\n",
       "      <td>2022-12-12</td>\n",
       "      <td>NaN</td>\n",
       "      <td>https://www.jobs.bg/job/6599832</td>\n",
       "    </tr>\n",
       "    <tr>\n",
       "      <th>35</th>\n",
       "      <td>Data Operations Analyst (junior to mid)</td>\n",
       "      <td>CXG Outsourcing EOOD</td>\n",
       "      <td>wifi</td>\n",
       "      <td>23.11.22</td>\n",
       "      <td>2022-12-12</td>\n",
       "      <td>NaN</td>\n",
       "      <td>https://www.jobs.bg/job/6599650</td>\n",
       "    </tr>\n",
       "    <tr>\n",
       "      <th>36</th>\n",
       "      <td>Senior Financial Data Analyst</td>\n",
       "      <td>КПМГ ОДИТ ООД</td>\n",
       "      <td>wifi</td>\n",
       "      <td>22.11.22</td>\n",
       "      <td>2022-12-12</td>\n",
       "      <td>NaN</td>\n",
       "      <td>https://www.jobs.bg/job/6597568</td>\n",
       "    </tr>\n",
       "    <tr>\n",
       "      <th>37</th>\n",
       "      <td>Financial Analyst for Stock Market Data</td>\n",
       "      <td>3D STOCKPICKER LTD.</td>\n",
       "      <td>wifi</td>\n",
       "      <td>16.11.22</td>\n",
       "      <td>2022-12-12</td>\n",
       "      <td>NaN</td>\n",
       "      <td>https://www.jobs.bg/job/6590205</td>\n",
       "    </tr>\n",
       "    <tr>\n",
       "      <th>38</th>\n",
       "      <td>Remote/On-site Experienced Mobile QA Analyst</td>\n",
       "      <td>MentorMate Bulgaria Ltd.</td>\n",
       "      <td>София</td>\n",
       "      <td>днес\\n</td>\n",
       "      <td>2022-12-12</td>\n",
       "      <td>NaN</td>\n",
       "      <td>https://www.jobs.bg/job/6623128</td>\n",
       "    </tr>\n",
       "    <tr>\n",
       "      <th>39</th>\n",
       "      <td>Remote Experienced Mobile QA Analyst</td>\n",
       "      <td>MentorMate Bulgaria Ltd.</td>\n",
       "      <td>wifi</td>\n",
       "      <td>днес\\n</td>\n",
       "      <td>2022-12-12</td>\n",
       "      <td>NaN</td>\n",
       "      <td>https://www.jobs.bg/job/6623133</td>\n",
       "    </tr>\n",
       "  </tbody>\n",
       "</table>\n",
       "</div>"
      ],
      "text/plain": [
       "                                             JobTitle  \\\n",
       "2                              Marketing Data Analyst   \n",
       "3                               Business Data Analyst   \n",
       "4                                        Data Analyst   \n",
       "5              M&A Data Analyst with Turkish language   \n",
       "6             Junior/Mid Data Analyst & Data Engineer   \n",
       "8   Data Analyst (KYC and AML) - Junior and Senior...   \n",
       "9                                        Data Analyst   \n",
       "10                       KYC Data Analyst with German   \n",
       "11                               SEGA QA Data Analyst   \n",
       "13  Financial Analyst (Private Equity Data Solutions)   \n",
       "14                                       Data Analyst   \n",
       "15            Data Operations Analyst (junior to mid)   \n",
       "16                      Senior Financial Data Analyst   \n",
       "17            Financial Analyst for Stock Market Data   \n",
       "18       Remote/On-site Experienced Mobile QA Analyst   \n",
       "19               Remote Experienced Mobile QA Analyst   \n",
       "22                             Marketing Data Analyst   \n",
       "23                              Business Data Analyst   \n",
       "24                                       Data Analyst   \n",
       "25             M&A Data Analyst with Turkish language   \n",
       "26            Junior/Mid Data Analyst & Data Engineer   \n",
       "28  Data Analyst (KYC and AML) - Junior and Senior...   \n",
       "29                                       Data Analyst   \n",
       "30                       KYC Data Analyst with German   \n",
       "31                               SEGA QA Data Analyst   \n",
       "33  Financial Analyst (Private Equity Data Solutions)   \n",
       "34                                       Data Analyst   \n",
       "35            Data Operations Analyst (junior to mid)   \n",
       "36                      Senior Financial Data Analyst   \n",
       "37            Financial Analyst for Stock Market Data   \n",
       "38       Remote/On-site Experienced Mobile QA Analyst   \n",
       "39               Remote Experienced Mobile QA Analyst   \n",
       "\n",
       "                                      CompanyName JobLocation   PostDate  \\\n",
       "2                    АктивТрейдс - клон София КЧТ       София   09.12.22   \n",
       "3                                      ИНДЕВР ООД       София   09.12.22   \n",
       "4    KBC Global Services BG/Shared Service Center       София   08.12.22   \n",
       "5               INTERNET SECURITIES BULGARIA EOOD       София   07.12.22   \n",
       "6                           Adastra Bulgaria Ltd.       wifi    07.12.22   \n",
       "8                   Passcon Ltd / AML RightSource       София   29.11.22   \n",
       "9                           Ай Ес Джи Би Джи ЕООД       София   28.11.22   \n",
       "10                  Passcon Ltd / AML RightSource       София   28.11.22   \n",
       "11  Creative Assembly Sofia / SEGA Black Sea Ltd.       София   24.11.22   \n",
       "13                           Дъ Бърджис Груп ЕООД       София   24.11.22   \n",
       "14                            Modis Bulgaria EOOD       София   23.11.22   \n",
       "15                           CXG Outsourcing EOOD       wifi    23.11.22   \n",
       "16                                  КПМГ ОДИТ ООД       wifi    22.11.22   \n",
       "17                            3D STOCKPICKER LTD.       wifi    16.11.22   \n",
       "18                       MentorMate Bulgaria Ltd.       София  днес\\n      \n",
       "19                       MentorMate Bulgaria Ltd.       wifi   днес\\n      \n",
       "22                   АктивТрейдс - клон София КЧТ       София   09.12.22   \n",
       "23                                     ИНДЕВР ООД       София   09.12.22   \n",
       "24   KBC Global Services BG/Shared Service Center       София   08.12.22   \n",
       "25              INTERNET SECURITIES BULGARIA EOOD       София   07.12.22   \n",
       "26                          Adastra Bulgaria Ltd.       wifi    07.12.22   \n",
       "28                  Passcon Ltd / AML RightSource       София   29.11.22   \n",
       "29                          Ай Ес Джи Би Джи ЕООД       София   28.11.22   \n",
       "30                  Passcon Ltd / AML RightSource       София   28.11.22   \n",
       "31  Creative Assembly Sofia / SEGA Black Sea Ltd.       София   24.11.22   \n",
       "33                           Дъ Бърджис Груп ЕООД       София   24.11.22   \n",
       "34                            Modis Bulgaria EOOD       София   23.11.22   \n",
       "35                           CXG Outsourcing EOOD       wifi    23.11.22   \n",
       "36                                  КПМГ ОДИТ ООД       wifi    22.11.22   \n",
       "37                            3D STOCKPICKER LTD.       wifi    16.11.22   \n",
       "38                       MentorMate Bulgaria Ltd.       София  днес\\n      \n",
       "39                       MentorMate Bulgaria Ltd.       wifi   днес\\n      \n",
       "\n",
       "   ExtractDate  JobSalary                           JobUrl  \n",
       "2   2022-12-12        NaN  https://www.jobs.bg/job/6621002  \n",
       "3   2022-12-12        NaN  https://www.jobs.bg/job/6620726  \n",
       "4   2022-12-12        NaN  https://www.jobs.bg/job/6619660  \n",
       "5   2022-12-12        NaN  https://www.jobs.bg/job/6618177  \n",
       "6   2022-12-12        NaN  https://www.jobs.bg/job/6617074  \n",
       "8   2022-12-12        NaN  https://www.jobs.bg/job/6606582  \n",
       "9   2022-12-12        NaN  https://www.jobs.bg/job/6604746  \n",
       "10  2022-12-12        NaN  https://www.jobs.bg/job/6592547  \n",
       "11  2022-12-12        NaN  https://www.jobs.bg/job/6602038  \n",
       "13  2022-12-12        NaN  https://www.jobs.bg/job/6600494  \n",
       "14  2022-12-12        NaN  https://www.jobs.bg/job/6599832  \n",
       "15  2022-12-12        NaN  https://www.jobs.bg/job/6599650  \n",
       "16  2022-12-12        NaN  https://www.jobs.bg/job/6597568  \n",
       "17  2022-12-12        NaN  https://www.jobs.bg/job/6590205  \n",
       "18  2022-12-12        NaN  https://www.jobs.bg/job/6623128  \n",
       "19  2022-12-12        NaN  https://www.jobs.bg/job/6623133  \n",
       "22  2022-12-12        NaN  https://www.jobs.bg/job/6621002  \n",
       "23  2022-12-12        NaN  https://www.jobs.bg/job/6620726  \n",
       "24  2022-12-12        NaN  https://www.jobs.bg/job/6619660  \n",
       "25  2022-12-12        NaN  https://www.jobs.bg/job/6618177  \n",
       "26  2022-12-12        NaN  https://www.jobs.bg/job/6617074  \n",
       "28  2022-12-12        NaN  https://www.jobs.bg/job/6606582  \n",
       "29  2022-12-12        NaN  https://www.jobs.bg/job/6604746  \n",
       "30  2022-12-12        NaN  https://www.jobs.bg/job/6592547  \n",
       "31  2022-12-12        NaN  https://www.jobs.bg/job/6602038  \n",
       "33  2022-12-12        NaN  https://www.jobs.bg/job/6600494  \n",
       "34  2022-12-12        NaN  https://www.jobs.bg/job/6599832  \n",
       "35  2022-12-12        NaN  https://www.jobs.bg/job/6599650  \n",
       "36  2022-12-12        NaN  https://www.jobs.bg/job/6597568  \n",
       "37  2022-12-12        NaN  https://www.jobs.bg/job/6590205  \n",
       "38  2022-12-12        NaN  https://www.jobs.bg/job/6623128  \n",
       "39  2022-12-12        NaN  https://www.jobs.bg/job/6623133  "
      ]
     },
     "execution_count": 3988,
     "metadata": {},
     "output_type": "execute_result"
    }
   ],
   "source": [
    "df"
   ]
  },
  {
   "cell_type": "code",
   "execution_count": null,
   "id": "0c07e229",
   "metadata": {},
   "outputs": [],
   "source": []
  },
  {
   "cell_type": "code",
   "execution_count": null,
   "id": "9b9df752",
   "metadata": {},
   "outputs": [],
   "source": []
  }
 ],
 "metadata": {
  "kernelspec": {
   "display_name": "Python 3 (ipykernel)",
   "language": "python",
   "name": "python3"
  },
  "language_info": {
   "codemirror_mode": {
    "name": "ipython",
    "version": 3
   },
   "file_extension": ".py",
   "mimetype": "text/x-python",
   "name": "python",
   "nbconvert_exporter": "python",
   "pygments_lexer": "ipython3",
   "version": "3.9.12"
  }
 },
 "nbformat": 4,
 "nbformat_minor": 5
}
